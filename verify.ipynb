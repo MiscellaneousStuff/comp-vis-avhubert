{
 "cells": [
  {
   "cell_type": "code",
   "execution_count": 2,
   "metadata": {},
   "outputs": [
    {
     "data": {
      "text/plain": [
       "0.6518218623481782"
      ]
     },
     "execution_count": 2,
     "metadata": {},
     "output_type": "execute_result"
    }
   ],
   "source": [
    "a = ['dh', 'z', 'b', 'w', 'iy', 'p', 'w', 's', 'ih', 'hh', 'ow', 'r', 'n', 'w', 's', 'v', 'ih', 'p', 'ih', 's', 't', 'ah', 'k', 'p', 'n', 'w', 'f', 's', 'd', 'ao', 'ah', 'ae', 'ae', 'sh', 'f', 'b', 'eh', 't', 'k', 's', 's', 'ae', 'sh', 'ae', 'dh', 'd', 'aw', 's', 'p', 'aw', 'dh', 'l', 'w', 'eh', 'w', 'dh', 'l', 'n', 'ao', 's', 'iy', 'ow', 'ng', 'ao', 'aa', 'ey', 'ch', 'l', 'ae', 'm', 'ah', 'ah', 'ah', 'ah', 't', 'f', 'ae', 'ao', 'ao', 'p', 'eh', 'n', 'p', 'ae', 's', 'ow', 's', 'p', 'ey', 'p', 'l', 'eh', 'sil', 't', 'n', 'iy', 'ae', 'n', 's', 'ae', 's', 'aa', 'b', 'f', 'n', 'sil', 'ih', 't', 'w', 'f', 's', 'ih', 'n', 'l', 'l', 'iy', 'n', 's', 'dh', 'sil', 'l', 'ey', 't', 'ey', 'w', 'd', 'ih', 'er', 'hh', 't', 'dh', 'n', 't', 'eh', 'uw', 'n', 'ae', 'f', 'f', 'w', 'n', 'sil', 'iy', 'ae', 'p', 'f', 'l', 'r', 'er', 'w', 'ah', 's', 'ae', 'sil', 'v', 'ah', 's', 'sil', 'ey', 'w', 'ae', 'v', 'sil', 'z', 't', 'er', 'dh', 'w', 'aw', 's', 'iy', 'l', 'dh', 'b', 'dh', 'ow', 'ih', 'ey', 's', 'eh', 'ih', 'k', 'n', 'f', 's', 'b', 'v', 'f', 'l', 'ae', 'ah', 's', 'ae', 'w', 'ey', 'f', 'eh', 'n', 'ih', 'r', 'r', 'ah', 'b', 'eh', 'dh', 'iy', 'n', 's', 'ae', 'ae', 'er', 't', 'sil', 'ah', 's', 'eh', 's', 'l', 'er', 'dh', 'f', 't', 'iy', 'n', 'ah', 'ah', 't', 'd', 'uw', 'ah', 'd', 'zh', 't', 'sil', 'v', 'm', 'ih', 't', 'dh', 'sh', 'v', 'ng', 's', 'd', 'p', 'ah', 'l']\n",
    "b = ['dh', 'z', 'b', 'n', 'l', 'p', 'n', 'ih', 'ng', 'hh', 's', 'z', 'n', 'w', 's', 'p', 'ih', 'p', 'ih', 's', 'eh', 'ah', 'k', 'p', 'd', 'w', 'f', 's', 'w', 'ao', 'd', 'ae', 'dh', 'sh', 'f', 'b', 'dh', 't', 'k', 's', 's', 'ae', 'sh', 'ae', 'dh', 'ow', 'aw', 's', 'p', 'aw', 't', 'l', 'w', 'eh', 'w', 'dh', 'ay', 'uw', 'ao', 's', 'er', 'ao', 'ih', 'ao', 'iy', 'ey', 'y', 'l', 'ae', 'f', 'ah', 'z', 'n', 'l', 'w', 'f', 'ae', 'n', 'ao', 'p', 'v', 'sil', 'p', 'ae', 'iy', 'ao', 's', 'p', 's', 'ae', 'l', 'eh', 'sil', 't', 'z', 'iy', 'ae', 'n', 'l', 'ae', 's', 'aa', 'b', 'f', 'er', 'sil', 'l', 't', 'w', 'f', 'ih', 'ih', 'n', 'l', 'l', 'p', 'n', 's', 'dh', 'sil', 'ah', 'ey', 't', 'ey', 'w', 'z', 'ih', 'er', 'hh', 's', 'dh', 'n', 't', 's', 'uw', 'sil', 'ae', 'f', 'f', 'w', 'n', 'sil', 's', 'd', 'p', 'f', 'p', 'b', 's', 'w', 'n', 's', 'ae', 'b', 'v', 'ah', 'ah', 'sil', 'ey', 'w', 'ae', 'v', 'sil', 'l', 'l', 'er', 'dh', 't', 'aw', 's', 'iy', 'l', 'dh', 'aa', 'dh', 'ow', 'ih', 'ey', 's', 's', 'ih', 'ah', 'aw', 'f', 's', 'b', 'iy', 'f', 'l', 'ae', 'ah', 's', 'ae', 'n', 'n', 'sil', 'eh', 'n', 'ih', 'r', 'r', 'ah', 'b', 'f', 'dh', 'iy', 'n', 's', 'ae', 'ae', 'er', 'ah', 'sil', 'dh', 'ah', 'eh', 's', 'l', 'er', 'z', 'd', 'ah', 'iy', 'n', 'sh', 'n', 'd', 'dh', 'ah', 'n', 'd', 'm', 'ih', 'sil', 'n', 'm', 'ih', 'ih', 'dh', 'sh', 'n', 'ih', 's', 'd', 'iy', 'ey', 'l']\n",
    "\n",
    "o = [c == d for c, d in zip(a, b)]\n",
    "\n",
    "o.count(True) / len(o)"
   ]
  }
 ],
 "metadata": {
  "kernelspec": {
   "display_name": "Python 3",
   "language": "python",
   "name": "python3"
  },
  "language_info": {
   "codemirror_mode": {
    "name": "ipython",
    "version": 3
   },
   "file_extension": ".py",
   "mimetype": "text/x-python",
   "name": "python",
   "nbconvert_exporter": "python",
   "pygments_lexer": "ipython3",
   "version": "3.8.10"
  },
  "orig_nbformat": 4
 },
 "nbformat": 4,
 "nbformat_minor": 2
}
